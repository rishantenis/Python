{
 "cells": [
  {
   "cell_type": "markdown",
   "metadata": {},
   "source": [
    "## Functions"
   ]
  },
  {
   "cell_type": "code",
   "execution_count": 1,
   "metadata": {},
   "outputs": [
    {
     "name": "stdout",
     "output_type": "stream",
     "text": [
      "type: <function my_first_Function at 0x000001856AB44798>\n",
      "Rishan Hasan Tenis\n"
     ]
    }
   ],
   "source": [
    "def my_first_Function():\n",
    "    print('Rishan Hasan Tenis')\n",
    "print('type: {}'.format(my_first_Function))\n",
    "my_first_Function() # calling the function"
   ]
  }
 ],
 "metadata": {
  "kernelspec": {
   "display_name": "Data_Sci",
   "language": "python",
   "name": "python3"
  },
  "language_info": {
   "codemirror_mode": {
    "name": "ipython",
    "version": 3
   },
   "file_extension": ".py",
   "mimetype": "text/x-python",
   "name": "python",
   "nbconvert_exporter": "python",
   "pygments_lexer": "ipython3",
   "version": "3.7.16"
  }
 },
 "nbformat": 4,
 "nbformat_minor": 2
}
