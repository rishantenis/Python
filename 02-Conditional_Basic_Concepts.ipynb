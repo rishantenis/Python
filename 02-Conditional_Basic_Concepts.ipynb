{
 "cells": [
  {
   "cell_type": "markdown",
   "metadata": {},
   "source": [
    "## Conditionals"
   ]
  },
  {
   "cell_type": "markdown",
   "metadata": {},
   "source": [
    "### Testing truth value"
   ]
  },
  {
   "cell_type": "code",
   "execution_count": 1,
   "metadata": {},
   "outputs": [
    {
     "name": "stdout",
     "output_type": "stream",
     "text": [
      "type of the True and False: <class 'bool'>\n"
     ]
    }
   ],
   "source": [
    "print('type of the True and False: {}'.format(type(True)))"
   ]
  },
  {
   "cell_type": "code",
   "execution_count": 3,
   "metadata": {},
   "outputs": [
    {
     "name": "stdout",
     "output_type": "stream",
     "text": [
      "type of the True and False value: <class 'bool'>\n"
     ]
    }
   ],
   "source": [
    "print('type of the True and False value: {}'.format(type(False)))"
   ]
  },
  {
   "cell_type": "code",
   "execution_count": 9,
   "metadata": {},
   "outputs": [
    {
     "name": "stdout",
     "output_type": "stream",
     "text": [
      "type of 0: False, type of 1: True\n",
      "empty list: False, list with values: True\n",
      "empty dict: False, dict with values: True\n"
     ]
    }
   ],
   "source": [
    "print('type of 0: {}, type of 1: {}'.format(bool(0), bool(1)))\n",
    "print('empty list: {}, list with values: {}'.format(bool([]), bool(['woop'])))\n",
    "print('empty dict: {}, dict with values: {}'.format(bool({}), bool({'Python': 'cool'})))"
   ]
  },
  {
   "cell_type": "markdown",
   "metadata": {},
   "source": [
    "### 02_Conditional Basic Concepts"
   ]
  },
  {
   "cell_type": "markdown",
   "metadata": {},
   "source": [
    "### bool"
   ]
  },
  {
   "cell_type": "markdown",
   "metadata": {},
   "source": [
    "`=,!=, >, <, >!, !<`\n",
    "['Comparison Operators and Expressions in Python`](https://realpython.com/python-operators-expressions/#comparison-operators-and-expressions-in-python)"
   ]
  },
  {
   "cell_type": "code",
   "execution_count": 19,
   "metadata": {},
   "outputs": [
    {
     "name": "stdout",
     "output_type": "stream",
     "text": [
      "1 == 0: False\n",
      "1 != 0: True\n",
      "1 > 0: True\n",
      "1 < 0: False\n",
      "1 >= 0: True\n",
      "1 <= 0: False\n"
     ]
    }
   ],
   "source": [
    "print('1 == 0: {}'.format(1 == 0)) # Equal to \n",
    "print('1 != 0: {}'.format(1 != 0)) # Not Equal\n",
    "print('1 > 0: {}'.format(1 > 0))  # Greater than\n",
    "print('1 < 0: {}'.format(1 < 0)) # Less than\n",
    "print('1 >= 0: {}'.format(1 >= 0)) # Greater than or equal to\n",
    "print('1 <= 0: {}'.format(1 <= 0))#  Less than or equal to"
   ]
  },
  {
   "cell_type": "code",
   "execution_count": 1,
   "metadata": {},
   "outputs": [
    {
     "name": "stdout",
     "output_type": "stream",
     "text": [
      "1 <= 2 <= 3: True\n",
      "2 >= 3 >= 1: False\n"
     ]
    }
   ],
   "source": [
    "# You can Combine this\n",
    "print('1 <= 2 <= 3: {}'.format(1 <= 2 <=3))\n",
    "print('2 >= 3 >= 1: {}'.format(1 >= 3 >= 1))"
   ]
  },
  {
   "cell_type": "markdown",
   "metadata": {},
   "source": [
    "# and, or, not"
   ]
  },
  {
   "cell_type": "code",
   "execution_count": 2,
   "metadata": {},
   "outputs": [],
   "source": [
    "python_is_cool = True\n",
    "Java_is_cool = False\n",
    "empty_list = []\n",
    "secret_value = 3.16"
   ]
  },
  {
   "cell_type": "code",
   "execution_count": 3,
   "metadata": {},
   "outputs": [
    {
     "name": "stdout",
     "output_type": "stream",
     "text": [
      "Pyhon and Java both are cool: False\n"
     ]
    }
   ],
   "source": [
    "print('Pyhon and Java both are cool: {}'.format(python_is_cool and Java_is_cool))"
   ]
  },
  {
   "cell_type": "code",
   "execution_count": 4,
   "metadata": {},
   "outputs": [
    {
     "name": "stdout",
     "output_type": "stream",
     "text": [
      "secret_value and python_is_cool: True\n"
     ]
    }
   ],
   "source": [
    "print('secret_value and python_is_cool: {}'.format(secret_value and python_is_cool))"
   ]
  },
  {
   "cell_type": "code",
   "execution_count": 5,
   "metadata": {},
   "outputs": [
    {
     "name": "stdout",
     "output_type": "stream",
     "text": [
      "python_is_cool or Java_is_cool: True\n",
      "1>=2.0 or 3 <=2: False\n"
     ]
    }
   ],
   "source": [
    "# Or \n",
    "print('python_is_cool or Java_is_cool: {}'.format(python_is_cool or Java_is_cool))\n",
    "print('1>=2.0 or 3 <=2: {}'.format(1>=2.0 or 3<=2))"
   ]
  },
  {
   "cell_type": "code",
   "execution_count": 6,
   "metadata": {},
   "outputs": [
    {
     "name": "stdout",
     "output_type": "stream",
     "text": [
      "Java is not cool: True\n"
     ]
    }
   ],
   "source": [
    "print('Java is not cool: {}'.format(not Java_is_cool))"
   ]
  },
  {
   "cell_type": "code",
   "execution_count": 7,
   "metadata": {},
   "outputs": [
    {
     "name": "stdout",
     "output_type": "stream",
     "text": [
      "True\n",
      "False\n"
     ]
    }
   ],
   "source": [
    "print(bool(not Java_is_cool or Pyhton_is_cool and secret_value))\n",
    "print(bool(not(python_is_cool or Java_is_cool and secret_value)))"
   ]
  },
  {
   "cell_type": "markdown",
   "metadata": {},
   "source": [
    "## if statement"
   ]
  },
  {
   "cell_type": "code",
   "execution_count": 8,
   "metadata": {},
   "outputs": [
    {
     "name": "stdout",
     "output_type": "stream",
     "text": [
      "The statement is True\n"
     ]
    }
   ],
   "source": [
    "statement = True\n",
    "if statement:\n",
    "    print('The statement is True')\n",
    "if not statement:\n",
    "    print('The statement is not True')"
   ]
  },
  {
   "cell_type": "code",
   "execution_count": 9,
   "metadata": {},
   "outputs": [],
   "source": [
    "empty_list = []\n",
    "# with if and elif, conversion to `bool`  is implicit\n",
    "if empty_list:\n",
    "    print('empty list will not evaluate to True') # This won't be excuted"
   ]
  },
  {
   "cell_type": "code",
   "execution_count": 10,
   "metadata": {},
   "outputs": [
    {
     "name": "stdout",
     "output_type": "stream",
     "text": [
      "Value is positive and less than one or value is three\n"
     ]
    }
   ],
   "source": [
    "val = 3\n",
    "if 0<= val < 1 or val ==3:\n",
    "    print('Value is positive and less than one or value is three')"
   ]
  },
  {
   "cell_type": "code",
   "execution_count": null,
   "metadata": {},
   "outputs": [],
   "source": []
  },
  {
   "cell_type": "code",
   "execution_count": null,
   "metadata": {},
   "outputs": [],
   "source": []
  }
 ],
 "metadata": {
  "kernelspec": {
   "display_name": "Data_Sci",
   "language": "python",
   "name": "python3"
  },
  "language_info": {
   "codemirror_mode": {
    "name": "ipython",
    "version": 3
   },
   "file_extension": ".py",
   "mimetype": "text/x-python",
   "name": "python",
   "nbconvert_exporter": "python",
   "pygments_lexer": "ipython3",
   "version": "3.7.16"
  }
 },
 "nbformat": 4,
 "nbformat_minor": 2
}
