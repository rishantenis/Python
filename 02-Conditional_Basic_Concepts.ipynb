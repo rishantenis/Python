{
 "cells": [
  {
   "cell_type": "markdown",
   "metadata": {},
   "source": [
    "## Conditionals"
   ]
  },
  {
   "cell_type": "markdown",
   "metadata": {},
   "source": [
    "### Testing truth value"
   ]
  },
  {
   "cell_type": "code",
   "execution_count": 1,
   "metadata": {},
   "outputs": [
    {
     "name": "stdout",
     "output_type": "stream",
     "text": [
      "type of the True and False: <class 'bool'>\n"
     ]
    }
   ],
   "source": [
    "print('type of the True and False: {}'.format(type(True)))"
   ]
  },
  {
   "cell_type": "code",
   "execution_count": 3,
   "metadata": {},
   "outputs": [
    {
     "name": "stdout",
     "output_type": "stream",
     "text": [
      "type of the True and False value: <class 'bool'>\n"
     ]
    }
   ],
   "source": [
    "print('type of the True and False value: {}'.format(type(False)))"
   ]
  },
  {
   "cell_type": "code",
   "execution_count": 9,
   "metadata": {},
   "outputs": [
    {
     "name": "stdout",
     "output_type": "stream",
     "text": [
      "type of 0: False, type of 1: True\n",
      "empty list: False, list with values: True\n",
      "empty dict: False, dict with values: True\n"
     ]
    }
   ],
   "source": [
    "print('type of 0: {}, type of 1: {}'.format(bool(0), bool(1)))\n",
    "print('empty list: {}, list with values: {}'.format(bool([]), bool(['woop'])))\n",
    "print('empty dict: {}, dict with values: {}'.format(bool({}), bool({'Python': 'cool'})))\n",
    "# //\n",
    "#//\n",
    "#//\n",
    "#//\n",
    "#///\n",
    "#///\n",
    "#///\n",
    "#//\n",
    "#//\n"
   ]
  },
  {
   "cell_type": "markdown",
   "metadata": {},
   "source": [
    "### 02_Conditional Basic Concepts"
   ]
  },
  {
   "cell_type": "markdown",
   "metadata": {},
   "source": [
    "### bool"
   ]
  },
  {
   "cell_type": "markdown",
   "metadata": {},
   "source": [
    "`=,!=, >, <, >!, !<`\n",
    "['Comparison Operators and Expressions in Python`](https://realpython.com/python-operators-expressions/#comparison-operators-and-expressions-in-python)"
   ]
  },
  {
   "cell_type": "code",
   "execution_count": 19,
   "metadata": {},
   "outputs": [
    {
     "name": "stdout",
     "output_type": "stream",
     "text": [
      "1 == 0: False\n",
      "1 != 0: True\n",
      "1 > 0: True\n",
      "1 < 0: False\n",
      "1 >= 0: True\n",
      "1 <= 0: False\n"
     ]
    }
   ],
   "source": [
    "print('1 == 0: {}'.format(1 == 0)) # Equal to \n",
    "print('1 != 0: {}'.format(1 != 0)) # Not Equal\n",
    "print('1 > 0: {}'.format(1 > 0))  # Greater than\n",
    "print('1 < 0: {}'.format(1 < 0)) # Less than\n",
    "print('1 >= 0: {}'.format(1 >= 0)) # Greater than or equal to\n",
    "print('1 <= 0: {}'.format(1 <= 0))#  Less than or equal to"
   ]
  }
 ],
 "metadata": {
  "kernelspec": {
   "display_name": "Data_Sci",
   "language": "python",
   "name": "python3"
  },
  "language_info": {
   "codemirror_mode": {
    "name": "ipython",
    "version": 3
   },
   "file_extension": ".py",
   "mimetype": "text/x-python",
   "name": "python",
   "nbconvert_exporter": "python",
   "pygments_lexer": "ipython3",
   "version": "3.7.16"
  }
 },
 "nbformat": 4,
 "nbformat_minor": 2
}
