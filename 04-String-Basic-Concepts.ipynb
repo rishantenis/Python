{
 "cells": [
  {
   "cell_type": "code",
   "execution_count": 1,
   "metadata": {},
   "outputs": [
    {
     "name": "stdout",
     "output_type": "stream",
     "text": [
      "Allah is Almighty\n"
     ]
    }
   ],
   "source": [
    "# Python Practices\n",
    "print('Allah is Almighty')"
   ]
  },
  {
   "cell_type": "code",
   "execution_count": null,
   "metadata": {},
   "outputs": [],
   "source": [
    "print('Allah is Almighty')\n",
    "print('Allah is Almighty')\n",
    "print('Allah is Almighty')\n",
    "print('Allah is Almighty')\n",
    "print('Allah is Almighty')\n",
    "print('Allah is Almighty')\n",
    "print('Allah is Almighty')\n",
    "print('Allah is Almighty')\n",
    "print('Allah is Almighty')\n",
    "print('Allah is Almighty')"
   ]
  },
  {
   "cell_type": "markdown",
   "metadata": {},
   "source": []
  },
  {
   "cell_type": "code",
   "execution_count": null,
   "metadata": {},
   "outputs": [],
   "source": []
  }
 ],
 "metadata": {
  "kernelspec": {
   "display_name": "Data_Sci",
   "language": "python",
   "name": "python3"
  },
  "language_info": {
   "codemirror_mode": {
    "name": "ipython",
    "version": 3
   },
   "file_extension": ".py",
   "mimetype": "text/x-python",
   "name": "python",
   "nbconvert_exporter": "python",
   "pygments_lexer": "ipython3",
   "version": "3.7.16"
  }
 },
 "nbformat": 4,
 "nbformat_minor": 2
}
